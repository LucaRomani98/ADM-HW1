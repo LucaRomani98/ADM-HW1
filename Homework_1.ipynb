{
  "nbformat": 4,
  "nbformat_minor": 0,
  "metadata": {
    "colab": {
      "name": "Homework 1.ipynb",
      "provenance": [],
      "collapsed_sections": [
        "r_POabvW0jYa",
        "uCpcivu8ztOj",
        "jKs-UM2Jzt_E",
        "kcB3ON7g1nSB",
        "wU0EW0J_NySq",
        "f-n4hrWFSKnZ",
        "VpUSCStMSUG2",
        "JcjciKn5TM4u",
        "E_yYrBtoSU5V",
        "lbVCb2CRUOOg",
        "XeiHp7nKaQHW",
        "W5pvvoLeaQXG"
      ]
    },
    "kernelspec": {
      "name": "python3",
      "display_name": "Python 3"
    },
    "language_info": {
      "name": "python"
    }
  },
  "cells": [
    {
      "cell_type": "markdown",
      "metadata": {
        "id": "0XI7t0KWzYzb"
      },
      "source": [
        "#Problem 1"
      ]
    },
    {
      "cell_type": "markdown",
      "metadata": {
        "id": "r_POabvW0jYa"
      },
      "source": [
        "###Intoduction"
      ]
    },
    {
      "cell_type": "markdown",
      "metadata": {
        "id": "mqEKvqm5zg8B"
      },
      "source": [
        "Say \"Hello, World!\" With Python\n"
      ]
    },
    {
      "cell_type": "code",
      "metadata": {
        "id": "Dfc4V_XJzibF"
      },
      "source": [
        "print(\"Hello, World!\")"
      ],
      "execution_count": null,
      "outputs": []
    },
    {
      "cell_type": "markdown",
      "metadata": {
        "id": "T6gqZwsXzsQx"
      },
      "source": [
        "Python If-Else"
      ]
    },
    {
      "cell_type": "code",
      "metadata": {
        "id": "lZGe2_MDzsb5"
      },
      "source": [
        "n = int(input(\"\"))\n",
        "even = lambda x: x % 2 == 0\n",
        "\n",
        "if not even(n):\n",
        "    print(\"Weird\")\n",
        "elif 2 <= n <= 5:\n",
        "    print(\"Not Weird\")\n",
        "elif 6 <= n <= 20:\n",
        "    print(\"Weird\")\n",
        "else:\n",
        "    print(\"Not Weird\")"
      ],
      "execution_count": null,
      "outputs": []
    },
    {
      "cell_type": "markdown",
      "metadata": {
        "id": "WgfuJU9tzsip"
      },
      "source": [
        "Arithmetic Operators\n",
        "\n"
      ]
    },
    {
      "cell_type": "code",
      "metadata": {
        "id": "TFxfjzlKzspu"
      },
      "source": [
        "a = int(input())\n",
        "b = int(input())\n",
        "print(a+b)\n",
        "print(a-b)\n",
        "print(a*b)"
      ],
      "execution_count": null,
      "outputs": []
    },
    {
      "cell_type": "markdown",
      "metadata": {
        "id": "y5T9BkFxzsu5"
      },
      "source": [
        "Python: Division"
      ]
    },
    {
      "cell_type": "code",
      "metadata": {
        "id": "rqjfkQZzzszd"
      },
      "source": [
        "if __name__ == '__main__':\n",
        "    a = int(input())\n",
        "    b = int(input())\n",
        "    print(a//b)\n",
        "    print(a/b)"
      ],
      "execution_count": null,
      "outputs": []
    },
    {
      "cell_type": "markdown",
      "metadata": {
        "id": "S7Zmtrw8zs3t"
      },
      "source": [
        "Loops"
      ]
    },
    {
      "cell_type": "code",
      "metadata": {
        "id": "dMne9eeTzs7p"
      },
      "source": [
        "if __name__ == '__main__':\n",
        "    n = int(input())\n",
        "    for i in range(0,n):\n",
        "        print(i**2)\n"
      ],
      "execution_count": null,
      "outputs": []
    },
    {
      "cell_type": "markdown",
      "metadata": {
        "id": "j9itW4stzs_l"
      },
      "source": [
        "Write a Function"
      ]
    },
    {
      "cell_type": "code",
      "metadata": {
        "id": "qLcdxBMlztDY"
      },
      "source": [
        "def is_leap(year):\n",
        "    leap = False\n",
        "    if year % 4 == 0:\n",
        "        if year % 100 != 0 or ((year % 100 == 0) and (year % 400 == 0)):\n",
        "            leap = True\n",
        "    \n",
        "    return leap\n",
        "\n",
        "year = int(input())\n",
        "print(is_leap(year))"
      ],
      "execution_count": null,
      "outputs": []
    },
    {
      "cell_type": "markdown",
      "metadata": {
        "id": "vtautbaVztHT"
      },
      "source": [
        "Print Function"
      ]
    },
    {
      "cell_type": "code",
      "metadata": {
        "id": "qCRF_acDztK7"
      },
      "source": [
        "n = int(input())\n",
        "for i in range(1,n+1):\n",
        "  print(i, end='')"
      ],
      "execution_count": null,
      "outputs": []
    },
    {
      "cell_type": "markdown",
      "metadata": {
        "id": "uCpcivu8ztOj"
      },
      "source": [
        "###Data Types"
      ]
    },
    {
      "cell_type": "markdown",
      "metadata": {
        "id": "CGUPs22M0rXh"
      },
      "source": [
        "List Comprehension"
      ]
    },
    {
      "cell_type": "code",
      "metadata": {
        "id": "QxITh5uTztS9"
      },
      "source": [
        "x = int(input())\n",
        "y = int(input())\n",
        "z = int(input())\n",
        "n = int(input())\n",
        "output = []\n",
        "for i in range(0,x+1):\n",
        "    for j in range (0,y+1):\n",
        "        for k in range (0,z+1):\n",
        "            if i + j + k != n:\n",
        "                output.append([i,j,k])\n",
        "print(output)"
      ],
      "execution_count": null,
      "outputs": []
    },
    {
      "cell_type": "markdown",
      "metadata": {
        "id": "4Ui_LuCBztW6"
      },
      "source": [
        "Find the Runner-Up Score!"
      ]
    },
    {
      "cell_type": "code",
      "metadata": {
        "id": "db0Ueh_gztas"
      },
      "source": [
        "n = int(input())\n",
        "arr = list(map(int, input().split()))\n",
        "runup = min(arr)\n",
        "for score in arr:\n",
        "    if runup < score < max(arr):\n",
        "        runup = score\n",
        "print(runup)\n",
        "    "
      ],
      "execution_count": null,
      "outputs": []
    },
    {
      "cell_type": "markdown",
      "metadata": {
        "id": "uvxwwgFhztex"
      },
      "source": [
        "Nested Lists"
      ]
    },
    {
      "cell_type": "code",
      "metadata": {
        "id": "xB3ncfKtztjC"
      },
      "source": [
        "l = []\n",
        "second_lowest_names = []\n",
        "scores = set()\n",
        "\n",
        "for _ in range(int(input())):\n",
        "    name = input()\n",
        "    score = float(input())\n",
        "    l.append([name, score])\n",
        "    scores.add(score)\n",
        "        \n",
        "second_lowest = sorted(scores)[1]\n",
        "\n",
        "for name, score in l:\n",
        "    if score == second_lowest:\n",
        "        second_lowest_names.append(name)\n",
        "\n",
        "for name in sorted(second_lowest_names):\n",
        "    print(name, end='\\n')"
      ],
      "execution_count": null,
      "outputs": []
    },
    {
      "cell_type": "markdown",
      "metadata": {
        "id": "QL5uN7Kwztm_"
      },
      "source": [
        "Finding the percentage"
      ]
    },
    {
      "cell_type": "code",
      "metadata": {
        "id": "UPaUvXFYztrD"
      },
      "source": [
        "n = int(input())\n",
        "student_marks = {}\n",
        "for _ in range(n):\n",
        "    name, *line = input().split()\n",
        "    scores = list(map(float, line))\n",
        "    student_marks[name] = scores\n",
        "query_name = input()"
      ],
      "execution_count": null,
      "outputs": []
    },
    {
      "cell_type": "markdown",
      "metadata": {
        "id": "nl6DJkr2ztvT"
      },
      "source": [
        "Lists"
      ]
    },
    {
      "cell_type": "code",
      "metadata": {
        "id": "HIUNJrO3ztzZ"
      },
      "source": [
        "N = int(input())\n",
        "my_list = []\n",
        "for _ in range(N):\n",
        "    command = list(input().split())\n",
        "    if command[0] == 'insert':\n",
        "        my_list.insert(int(command[1]),int(command[2]))\n",
        "    if command[0] == 'print':\n",
        "        print(my_list)\n",
        "    if command[0] == 'sort':\n",
        "        my_list.sort()\n",
        "    if command[0] == 'remove':\n",
        "        my_list.remove(int(command[1]))\n",
        "    if command[0] == 'append':\n",
        "        my_list.append(int(command[1]))\n",
        "    if command[0] == 'pop':\n",
        "        my_list.pop()\n",
        "    if command[0] == 'reverse':\n",
        "        my_list.reverse()"
      ],
      "execution_count": null,
      "outputs": []
    },
    {
      "cell_type": "markdown",
      "metadata": {
        "id": "9UU1hC0Pzt3f"
      },
      "source": [
        "Tuples\n"
      ]
    },
    {
      "cell_type": "code",
      "metadata": {
        "id": "BHbBTow8zt7R"
      },
      "source": [
        "n = int(input())\n",
        "integer_list = map(int, input().split())\n",
        "t = tuple(integer_list)\n",
        "print(hash(t))"
      ],
      "execution_count": null,
      "outputs": []
    },
    {
      "cell_type": "markdown",
      "metadata": {
        "id": "jKs-UM2Jzt_E"
      },
      "source": [
        "###Strings"
      ]
    },
    {
      "cell_type": "markdown",
      "metadata": {
        "id": "8--5RYBE1k92"
      },
      "source": [
        "sWAP cASE"
      ]
    },
    {
      "cell_type": "code",
      "metadata": {
        "id": "qg3b5OGDzuC2"
      },
      "source": [
        "def swap_case(s):\n",
        "    return s.swapcase()\n",
        "s = input()\n",
        "result = swap_case(s)\n",
        "print(result)\n"
      ],
      "execution_count": null,
      "outputs": []
    },
    {
      "cell_type": "markdown",
      "metadata": {
        "id": "lIrFznqXzuG7"
      },
      "source": [
        "String Split and Join"
      ]
    },
    {
      "cell_type": "code",
      "metadata": {
        "id": "LX52vt-EzuKl"
      },
      "source": [
        "def split_and_join(line):\n",
        "    output = line.split(' ')\n",
        "    output = '-'.join(output)\n",
        "    return output\n",
        "\n",
        "line = input()\n",
        "result = split_and_join(line)\n",
        "print(result)"
      ],
      "execution_count": null,
      "outputs": []
    },
    {
      "cell_type": "markdown",
      "metadata": {
        "id": "hvLUN1b61lrr"
      },
      "source": [
        "What's Your Name?"
      ]
    },
    {
      "cell_type": "code",
      "metadata": {
        "id": "GjGLGZw-1lxI"
      },
      "source": [
        "def print_full_name(first, last):\n",
        "    return print(f'Hello {first} {last}! You just delved into python.')\n",
        "\n",
        "first_name = input()\n",
        "last_name = input()\n",
        "print_full_name(first_name, last_name)"
      ],
      "execution_count": null,
      "outputs": []
    },
    {
      "cell_type": "markdown",
      "metadata": {
        "id": "URumLiT11l0-"
      },
      "source": [
        "Mutations"
      ]
    },
    {
      "cell_type": "code",
      "metadata": {
        "id": "gbcLrQSJ1l5Y"
      },
      "source": [
        "def mutate_string(string, position, character):\n",
        "    l = list(string)\n",
        "    l[position] = character   \n",
        "    return ''.join(l)\n",
        "\n",
        "s = input()\n",
        "i, c = input().split()\n",
        "s_new = mutate_string(s, int(i), c)\n",
        "print(s_new)"
      ],
      "execution_count": null,
      "outputs": []
    },
    {
      "cell_type": "markdown",
      "metadata": {
        "id": "OzInxlvj1l-u"
      },
      "source": [
        "Find a string"
      ]
    },
    {
      "cell_type": "code",
      "metadata": {
        "id": "JjZL--uI1mC-"
      },
      "source": [
        "def count_substring(string, sub_string):\n",
        "    count = 0\n",
        "    for i in range()\n",
        "    return\n",
        "\n",
        "string = input().strip()\n",
        "sub_string = input().strip()\n",
        "\n",
        "count = count_substring(string, sub_string)\n",
        "print(count)"
      ],
      "execution_count": null,
      "outputs": []
    },
    {
      "cell_type": "markdown",
      "metadata": {
        "id": "4fzbdaMQ1mHE"
      },
      "source": [
        "String Validators"
      ]
    },
    {
      "cell_type": "code",
      "metadata": {
        "id": "5FOUHAgJ1mLL"
      },
      "source": [
        "s = input()\n",
        "print(any(c.isalnum() for c in s))\n",
        "print(any(c.isalpha() for c in s))\n",
        "print(any(c.isdigit() for c in s))\n",
        "print(any(c.islower() for c in s))\n",
        "print(any(c.isupper() for c in s))\n"
      ],
      "execution_count": null,
      "outputs": []
    },
    {
      "cell_type": "markdown",
      "metadata": {
        "id": "HZXhHvbD1mPQ"
      },
      "source": [
        "Text Alignment"
      ]
    },
    {
      "cell_type": "code",
      "metadata": {
        "id": "Sqc0CCjx1mS5"
      },
      "source": [
        "thickness = int(input()) #This must be an odd number\n",
        "c = 'H'\n",
        "\n",
        "#Top Cone\n",
        "for i in range(thickness):\n",
        "    print((c*i).rjust(thickness-1)+c+(c*i).ljust(thickness-1))\n",
        "\n",
        "#Top Pillars\n",
        "for i in range(thickness+1):\n",
        "    print((c*thickness).center(thickness*2)+(c*thickness).center(thickness*6))\n",
        "\n",
        "#Middle Belt\n",
        "for i in range((thickness+1)//2):\n",
        "    print((c*thickness*5).center(thickness*6))    \n",
        "\n",
        "#Bottom Pillars\n",
        "for i in range(thickness+1):\n",
        "    print((c*thickness).center(thickness*2)+(c*thickness).center(thickness*6))    \n",
        "\n",
        "#Bottom Cone\n",
        "for i in range(thickness):\n",
        "    print(((c*(thickness-i-1)).rjust(thickness)+c+(c*(thickness-i-1)).ljust(thickness)).rjust(thickness*6))"
      ],
      "execution_count": null,
      "outputs": []
    },
    {
      "cell_type": "markdown",
      "metadata": {
        "id": "G4cponEj1mW0"
      },
      "source": [
        "Text Wrap"
      ]
    },
    {
      "cell_type": "code",
      "metadata": {
        "id": "07JLdFCF1maS"
      },
      "source": [
        "def wrap(string, max_width):\n",
        "    return \"\\n\".join([string[i:i+max_width] for i in range(0, len(string), max_width)])\n",
        "\n",
        "string, max_width = input(), int(input())\n",
        "result = wrap(string, max_width)\n",
        "print(result)"
      ],
      "execution_count": null,
      "outputs": []
    },
    {
      "cell_type": "markdown",
      "metadata": {
        "id": "JbEJz9SC1meF"
      },
      "source": [
        "Designer Door Mat"
      ]
    },
    {
      "cell_type": "code",
      "metadata": {
        "id": "nPvNMov21mhs"
      },
      "source": [
        "arr = list(map(int, input().split()))\n",
        "n = arr[0]\n",
        "m = arr[1]\n",
        "c = int(n/2)\n",
        "for i in range(0,c):\n",
        "    print((('.|.')*((2*i)+1)).center(m,'-'))\n",
        "    \n",
        "print('WELCOME'.center(m,'-'))\n",
        "\n",
        "for i in range(0,c):\n",
        "    print((('.|.')*(c+2-(2*i))).center(m,'-'))\n"
      ],
      "execution_count": null,
      "outputs": []
    },
    {
      "cell_type": "markdown",
      "metadata": {
        "id": "8aOA4TGP1mlo"
      },
      "source": [
        "String Formatting"
      ]
    },
    {
      "cell_type": "code",
      "metadata": {
        "id": "Rx3n6IPg1mpH"
      },
      "source": [
        "def print_formatted(n):\n",
        "    for i in range(1,n + 1):\n",
        "        pad = n.bit_length()\n",
        "        print(f'{i:{pad}d} {i:{pad}o} {i:{pad}X} {i:{pad}b}')\n",
        "n = int(input())\n",
        "print_formatted(n)"
      ],
      "execution_count": null,
      "outputs": []
    },
    {
      "cell_type": "markdown",
      "metadata": {
        "id": "ec4TRyYf1mtD"
      },
      "source": [
        "Alphabet Rangoli"
      ]
    },
    {
      "cell_type": "code",
      "metadata": {
        "id": "mxk7KO_P1mzy"
      },
      "source": [
        "import string\n",
        "alpha = string.ascii_lowercase\n",
        "L = []\n",
        "\n",
        "def print_rangoli(n):\n",
        "    for i in range(n):\n",
        "        s = \"-\".join(alpha[i:n])\n",
        "        L.append((s[::-1]+s[1:]).center(4*n-3, \"-\"))\n",
        "    print('\\n'.join(L[:0:-1]+L))\n",
        "\n",
        "n = int(input())\n",
        "print_rangoli(n)"
      ],
      "execution_count": null,
      "outputs": []
    },
    {
      "cell_type": "markdown",
      "metadata": {
        "id": "BMQjDEmm1m5Q"
      },
      "source": [
        "Capitalize!"
      ]
    },
    {
      "cell_type": "code",
      "metadata": {
        "id": "ANpZBSlt1m9P"
      },
      "source": [
        "def solve(s):\n",
        "    output = ''\n",
        "    split_s = s.split()\n",
        "    for word in split_s:\n",
        "        i = word.capitalize()\n",
        "        output+=i\n",
        "        output+=' '\n",
        "    return output\n",
        "\n",
        "s = input()\n",
        "\n",
        "print(solve(s))"
      ],
      "execution_count": null,
      "outputs": []
    },
    {
      "cell_type": "markdown",
      "metadata": {
        "id": "5vLkDruE1nBV"
      },
      "source": [
        "The Minion Game"
      ]
    },
    {
      "cell_type": "code",
      "metadata": {
        "id": "bx5-QzJr1nFR"
      },
      "source": [
        "def minion_game(string):\n",
        "    vowel =['A','E','I','O','U']\n",
        "    S=0\n",
        "    K=0\n",
        "    for i in range(len(string)):\n",
        "        if string[i] in vowel:\n",
        "            K+= len(string)-i\n",
        "        else:\n",
        "            S+=len(string)-i\n",
        "    if S>K:\n",
        "        print(f\"Stuart {S}\")\n",
        "    elif K>S:\n",
        "        print(f\"Kevin {K}\")\n",
        "    else:\n",
        "        print(\"Draw\")\n",
        "s = input()\n",
        "minion_game(s)"
      ],
      "execution_count": null,
      "outputs": []
    },
    {
      "cell_type": "markdown",
      "metadata": {
        "id": "U_2jz2oP1nJq"
      },
      "source": [
        "Merge the Tools!"
      ]
    },
    {
      "cell_type": "code",
      "metadata": {
        "id": "6MkAcRVU1nN6"
      },
      "source": [
        "def merge_the_tools(string, k):\n",
        "    for i in range(0,len(string),k):\n",
        "        s = ''\n",
        "        for c in string[i:i+k]:\n",
        "            if c not in s:\n",
        "                s+=c\n",
        "        print(s) \n",
        "string, k = input(), int(input())\n",
        "merge_the_tools(string, k)"
      ],
      "execution_count": null,
      "outputs": []
    },
    {
      "cell_type": "markdown",
      "metadata": {
        "id": "kcB3ON7g1nSB"
      },
      "source": [
        "###Sets"
      ]
    },
    {
      "cell_type": "markdown",
      "metadata": {
        "id": "UAHX1I1Y4nov"
      },
      "source": [
        "Introduction to Sets"
      ]
    },
    {
      "cell_type": "code",
      "metadata": {
        "id": "EU39oReC1nWR"
      },
      "source": [
        "def average(array):\n",
        "    s = set(array)\n",
        "    aver = 0\n",
        "    for item in s:\n",
        "        aver += item\n",
        "    aver = aver/len(s)\n",
        "    return aver\n",
        "\n",
        "n = int(input())\n",
        "arr = list(map(int, input().split()))\n",
        "result = average(arr)\n",
        "print(result)"
      ],
      "execution_count": null,
      "outputs": []
    },
    {
      "cell_type": "markdown",
      "metadata": {
        "id": "IFehuxCQ1nar"
      },
      "source": [
        "No Idea!"
      ]
    },
    {
      "cell_type": "code",
      "metadata": {
        "id": "INrmIjzW1nfj"
      },
      "source": [
        "a = input()\n",
        "arr=list(map(int, input().split()))\n",
        "seta = set(map(int, input().split()))\n",
        "setb = set(map(int, input().split()))\n",
        "happyness = 0\n",
        "for item in arr:\n",
        "    if item in seta:\n",
        "        happyness +=1\n",
        "    if item in setb:\n",
        "        happyness -=1\n",
        "print(happyness)\n",
        "        "
      ],
      "execution_count": null,
      "outputs": []
    },
    {
      "cell_type": "markdown",
      "metadata": {
        "id": "Xqh6Ijll4tSk"
      },
      "source": [
        "Symmetric Difference"
      ]
    },
    {
      "cell_type": "code",
      "metadata": {
        "id": "LnZH9IAr4tZK"
      },
      "source": [
        "n1 = input()\n",
        "a = set(map(int, input().split()))\n",
        "n2 = input()\n",
        "b = set(map(int, input().split()))\n",
        "symm_diff = (a.union(b)).difference(a.intersection(b))\n",
        "for item in sorted(symm_diff):\n",
        "    print(item)"
      ],
      "execution_count": null,
      "outputs": []
    },
    {
      "cell_type": "markdown",
      "metadata": {
        "id": "-rnwxniy4tdQ"
      },
      "source": [
        "Set .add()"
      ]
    },
    {
      "cell_type": "code",
      "metadata": {
        "id": "6vrGjNqI4tg4"
      },
      "source": [
        "n = int(input())\n",
        "stamps = set()\n",
        "for _ in range(n):\n",
        "    stamps.add(input())\n",
        "print(len(stamps))"
      ],
      "execution_count": null,
      "outputs": []
    },
    {
      "cell_type": "markdown",
      "metadata": {
        "id": "F8ahs2_24tkW"
      },
      "source": [
        "Set .discard(), .remove(), .pop()"
      ]
    },
    {
      "cell_type": "code",
      "metadata": {
        "id": "sY9gny-k4toS"
      },
      "source": [
        "n = int(input())\n",
        "s = set(map(int, input().split()))\n",
        "m = int(input())\n",
        "for _ in range(m):\n",
        "    command = list(input().split())\n",
        "    if command[0] == 'pop':\n",
        "        s.pop()\n",
        "    if command[0] == 'remove':\n",
        "        s.remove(int(command[1]))\n",
        "    if command[0] == 'discard':\n",
        "        s.discard(int(command[1]))\n",
        "s_sum = 0\n",
        "for x in s:\n",
        "    s_sum += x\n",
        "print(s_sum)"
      ],
      "execution_count": null,
      "outputs": []
    },
    {
      "cell_type": "markdown",
      "metadata": {
        "id": "hyHp4zyj4tsO"
      },
      "source": [
        "Set .union() Operation"
      ]
    },
    {
      "cell_type": "code",
      "metadata": {
        "id": "1_VBm_5E4tw8"
      },
      "source": [
        "n = input()\n",
        "eng = set(map(int,input().split()))\n",
        "m = input()\n",
        "fren = set(map(int,input().split()))\n",
        "subsc = eng.union(fren)\n",
        "print(len(subsc))\n"
      ],
      "execution_count": null,
      "outputs": []
    },
    {
      "cell_type": "markdown",
      "metadata": {
        "id": "JTUktrUj4t1X"
      },
      "source": [
        "Set .intersection() Operation"
      ]
    },
    {
      "cell_type": "code",
      "metadata": {
        "id": "NekMUog_4t5w"
      },
      "source": [
        "n = input()\n",
        "eng = set(map(int, input().split()))\n",
        "m = input()\n",
        "fren = set(map(int, input().split()))\n",
        "subscr = eng.intersection(fren)\n",
        "print(len(subscr))"
      ],
      "execution_count": null,
      "outputs": []
    },
    {
      "cell_type": "markdown",
      "metadata": {
        "id": "ZFZJSn7F4t-K"
      },
      "source": [
        "Set .difference() Operation"
      ]
    },
    {
      "cell_type": "code",
      "metadata": {
        "id": "otF4CblU4uCk"
      },
      "source": [
        "n = input()\n",
        "eng = set(map(int, input().split()))\n",
        "m = input()\n",
        "fren = set(map(int, input().split()))\n",
        "subsc = eng.difference(fren)\n",
        "print(len(subsc))"
      ],
      "execution_count": null,
      "outputs": []
    },
    {
      "cell_type": "markdown",
      "metadata": {
        "id": "rhT3xwEb4uHS"
      },
      "source": [
        "Set .symmetric_difference() Operation"
      ]
    },
    {
      "cell_type": "code",
      "metadata": {
        "id": "NhVK6kbI4uLO"
      },
      "source": [
        "n = input()\n",
        "eng = set(map(int, input().split()))\n",
        "m = input()\n",
        "fren = set(map(int, input().split()))\n",
        "subsc = eng.symmetric_difference(fren)\n",
        "print(len(subsc))"
      ],
      "execution_count": null,
      "outputs": []
    },
    {
      "cell_type": "markdown",
      "metadata": {
        "id": "5OoOyyR44uPK"
      },
      "source": [
        "Set Mutations"
      ]
    },
    {
      "cell_type": "code",
      "metadata": {
        "id": "ZAyHR9m14uSz"
      },
      "source": [
        "n = input()\n",
        "my_set = set(map(int, input().split()))\n",
        "m = int(input())\n",
        "for _ in range(m):\n",
        "    command = list(input().split())\n",
        "    if command[0] == 'update':\n",
        "        my_set.update(set(map(int, input().split())))\n",
        "    if command[0] == 'intersection_update':\n",
        "        my_set.intersection_update(set(map(int, input().split())))\n",
        "    if command[0] == 'symmetric_difference_update':\n",
        "        my_set.symmetric_difference_update(set(map(int, input().split())))\n",
        "    if command[0] == 'difference_update':\n",
        "        my_set.difference_update(set(map(int, input().split())))\n",
        "my_sum = 0\n",
        "for elem in my_set:\n",
        "    my_sum += elem\n",
        "print(my_sum)"
      ],
      "execution_count": null,
      "outputs": []
    },
    {
      "cell_type": "markdown",
      "metadata": {
        "id": "Xwrnv5Jf4uW5"
      },
      "source": [
        "The Captain's Room"
      ]
    },
    {
      "cell_type": "code",
      "metadata": {
        "id": "XJa46Xm14uah"
      },
      "source": [
        "k = int(input())\n",
        "rooms = list(map(int, input().split()))\n",
        "single = set()\n",
        "multiple = set()\n",
        "for i in rooms:\n",
        "    if i in single:\n",
        "        multiple.add(i)\n",
        "    else:\n",
        "        single.add(i)\n",
        "single.difference_update(multiple)\n",
        "print(list(single)[0])\n"
      ],
      "execution_count": null,
      "outputs": []
    },
    {
      "cell_type": "markdown",
      "metadata": {
        "id": "deKN2JOrNyB1"
      },
      "source": [
        "Check Subset"
      ]
    },
    {
      "cell_type": "code",
      "metadata": {
        "id": "kf1Lmhx0NyHK"
      },
      "source": [
        "t = int(input())\n",
        "for _ in range(t):\n",
        "    n = input()\n",
        "    set_a=set(map(int, input().split()))\n",
        "    m = input()\n",
        "    set_b=set(map(int, input().split()))\n",
        "    if set_a == set_a.intersection(set_b):\n",
        "        print('True')\n",
        "    else:\n",
        "        print('False')"
      ],
      "execution_count": null,
      "outputs": []
    },
    {
      "cell_type": "markdown",
      "metadata": {
        "id": "bOPpf0eoNyK9"
      },
      "source": [
        "Check Strict Superset"
      ]
    },
    {
      "cell_type": "code",
      "metadata": {
        "id": "rht0iIiFNyOv"
      },
      "source": [
        "setA = set(map(int, input().split()))\n",
        "t = int(input())\n",
        "result = True\n",
        "for _ in range(t):\n",
        "    setB = set(map(int, input().split()))\n",
        "    if (setB != setB.intersection(setA)) or (setB == setA):\n",
        "        result = False\n",
        "print(result)"
      ],
      "execution_count": null,
      "outputs": []
    },
    {
      "cell_type": "markdown",
      "metadata": {
        "id": "wU0EW0J_NySq"
      },
      "source": [
        "###Collections"
      ]
    },
    {
      "cell_type": "markdown",
      "metadata": {
        "id": "dl0-YOjjN3y9"
      },
      "source": [
        "collections.Counter()"
      ]
    },
    {
      "cell_type": "code",
      "metadata": {
        "id": "tC5fiu77N35s"
      },
      "source": [
        "from collections import Counter\n",
        "\n",
        "n = int(input())\n",
        "sizes = Counter(map(int, input().split()))\n",
        "custom = int(input())\n",
        "total = 0\n",
        "Counter(sizes)\n",
        "\n",
        "for _ in range(custom):\n",
        "    size, price = map(int, input().split())\n",
        "    if sizes[size]:\n",
        "        total += price\n",
        "        sizes[size]-=1\n",
        "print(total)"
      ],
      "execution_count": null,
      "outputs": []
    },
    {
      "cell_type": "markdown",
      "metadata": {
        "id": "JYyRQV4MN39p"
      },
      "source": [
        "DefaultDict Tutorial\n"
      ]
    },
    {
      "cell_type": "code",
      "metadata": {
        "id": "rMRKpWhYN4Bv"
      },
      "source": [
        "from collections import defaultdict\n",
        "\n",
        "n,m = list(map(int,input().split()))\n",
        "d = defaultdict(list)\n",
        "for i in range(n):\n",
        "    d[input()].append(i+1)\n",
        "for i in range(m):\n",
        "    print(*d[input()] or [-1])"
      ],
      "execution_count": null,
      "outputs": []
    },
    {
      "cell_type": "markdown",
      "metadata": {
        "id": "AtxOYKKZN4FN"
      },
      "source": [
        "Collections.namedtuple()"
      ]
    },
    {
      "cell_type": "code",
      "metadata": {
        "id": "t3dptnZLN4Ir"
      },
      "source": [
        "from collections import namedtuple\n",
        "\n",
        "N = int(input())\n",
        "fields = input().split()\n",
        "\n",
        "total = 0\n",
        "for i in range(N):\n",
        "    students = namedtuple('student',fields)\n",
        "    field1, field2, field3,field4 = input().split()\n",
        "    student = students(field1,field2,field3,field4)\n",
        "    total += int(student.MARKS)\n",
        "print('{:.2f}'.format(total/N))"
      ],
      "execution_count": null,
      "outputs": []
    },
    {
      "cell_type": "markdown",
      "metadata": {
        "id": "fzb05IZXN4Md"
      },
      "source": [
        "Collections.OrderedDict()"
      ]
    },
    {
      "cell_type": "code",
      "metadata": {
        "id": "58wLDQ9GN4Px"
      },
      "source": [
        "from collections import OrderedDict\n",
        "\n",
        "d = OrderedDict()\n",
        "for _ in range(int(input())):\n",
        "    item, space, quantity = input().rpartition(' ')\n",
        "    d[item] = d.get(item, 0) + int(quantity)\n",
        "for item, quantity in d.items():\n",
        "    print(item, quantity)"
      ],
      "execution_count": null,
      "outputs": []
    },
    {
      "cell_type": "markdown",
      "metadata": {
        "id": "8paTU6WfN4TP"
      },
      "source": [
        "Word Order"
      ]
    },
    {
      "cell_type": "code",
      "metadata": {
        "id": "e75VrN-9N4Wi"
      },
      "source": [
        "from collections import OrderedDict\n",
        "words = OrderedDict()\n",
        "\n",
        "for _ in range(int(input())):\n",
        "    word = input()\n",
        "    words.setdefault(word, 0)\n",
        "    words[word] += 1\n",
        "   \n",
        "print(len(words))\n",
        "print(*words.values())\n"
      ],
      "execution_count": null,
      "outputs": []
    },
    {
      "cell_type": "markdown",
      "metadata": {
        "id": "a7EBGGG-N5QA"
      },
      "source": [
        "Collections.deque()"
      ]
    },
    {
      "cell_type": "code",
      "metadata": {
        "id": "mY4eiovpN5V_"
      },
      "source": [
        "from collections import deque\n",
        "\n",
        "d = deque()\n",
        "\n",
        "for _ in range(int(input())):\n",
        "    method, *n = input().split()\n",
        "    getattr(d, method)(*n)\n",
        "\n",
        "print(*d)"
      ],
      "execution_count": null,
      "outputs": []
    },
    {
      "cell_type": "markdown",
      "metadata": {
        "id": "y8rw4WimN5aZ"
      },
      "source": [
        "Company Logo"
      ]
    },
    {
      "cell_type": "code",
      "metadata": {
        "id": "fivbQ89aN5eU"
      },
      "source": [
        "from collections import Counter\n",
        "\n",
        "chars = Counter(input()).items()\n",
        "\n",
        "for char, n in sorted(chars, key=lambda c: (-c[1], c[0]))[:3]:\n",
        "    print(char, n)"
      ],
      "execution_count": null,
      "outputs": []
    },
    {
      "cell_type": "markdown",
      "metadata": {
        "id": "I9Yzju8GN5iv"
      },
      "source": [
        "Piling Up!"
      ]
    },
    {
      "cell_type": "code",
      "metadata": {
        "id": "FcGi6ZGQN5nd"
      },
      "source": [
        "for t in range(int(input())):\n",
        "    input()\n",
        "    lst = [int(i) for i in input().split()]\n",
        "    min_list = lst.index(min(lst))\n",
        "    left = lst[:min_list]\n",
        "    right = lst[min_list+1:]\n",
        "    if left == sorted(left, reverse=True) and right == sorted(right):\n",
        "        print(\"Yes\")\n",
        "    else:\n",
        "        print(\"No\")"
      ],
      "execution_count": null,
      "outputs": []
    },
    {
      "cell_type": "markdown",
      "metadata": {
        "id": "f-n4hrWFSKnZ"
      },
      "source": [
        "###Date and Time"
      ]
    },
    {
      "cell_type": "markdown",
      "metadata": {
        "id": "DJ2xNJrrN5so"
      },
      "source": [
        "Calendar Module"
      ]
    },
    {
      "cell_type": "code",
      "metadata": {
        "id": "5aMbb9BRN5xa"
      },
      "source": [
        "import calendar\n",
        "\n",
        "n1,n2,n3=map(int,input().split())\n",
        "\n",
        "print((calendar.day_name[calendar.weekday(n3,n1,n2)]).upper())"
      ],
      "execution_count": null,
      "outputs": []
    },
    {
      "cell_type": "markdown",
      "metadata": {
        "id": "M_SvdhHVN516"
      },
      "source": [
        "Time Delta"
      ]
    },
    {
      "cell_type": "code",
      "metadata": {
        "id": "z46OqTcBN56V"
      },
      "source": [
        "import math\n",
        "import os\n",
        "import random\n",
        "import re\n",
        "import sys\n",
        "from datetime import datetime as dt\n",
        "\n",
        "def time_delta(t1, t2):\n",
        "    first = dt.strptime(t1,'%a %d %b %Y %H:%M:%S %z')\n",
        "    second = dt.strptime(t2,'%a %d %b %Y %H:%M:%S %z')\n",
        "    return str(abs(int((first-second).total_seconds())))\n",
        "\n",
        "t = int(input())\n",
        "\n",
        "for _ in range(t):\n",
        "  t1 = input()\n",
        "  t2 = input()\n",
        "  delta = time_delta(t1, t2)\n",
        "  print(delta)"
      ],
      "execution_count": null,
      "outputs": []
    },
    {
      "cell_type": "markdown",
      "metadata": {
        "id": "VpUSCStMSUG2"
      },
      "source": [
        "###Exceptions"
      ]
    },
    {
      "cell_type": "markdown",
      "metadata": {
        "id": "EeLOR_w4UHvu"
      },
      "source": [
        "Exceptions"
      ]
    },
    {
      "cell_type": "code",
      "metadata": {
        "colab": {
          "base_uri": "https://localhost:8080/"
        },
        "id": "9lTfZnt4TMxz",
        "outputId": "1bf87781-d579-453b-ca4e-40b831bbcccb"
      },
      "source": [
        "t = int(input())\n",
        "for _ in range(t):\n",
        "    arr = list(input().split())\n",
        "    try:\n",
        "        a = int(arr[0])\n",
        "        b = int(arr[1])\n",
        "        print(a//b)\n",
        "    except Exception as e:\n",
        "        print(\"Error Code:\", e)"
      ],
      "execution_count": 6,
      "outputs": [
        {
          "output_type": "stream",
          "name": "stdout",
          "text": [
            "3\n",
            "1 0\n",
            "Error Code: integer division or modulo by zero\n",
            "2 $\n",
            "Error Code: invalid literal for int() with base 10: '$'\n",
            "3 1\n",
            "3\n"
          ]
        }
      ]
    },
    {
      "cell_type": "markdown",
      "metadata": {
        "id": "JcjciKn5TM4u"
      },
      "source": [
        "###Built-Ins"
      ]
    },
    {
      "cell_type": "markdown",
      "metadata": {
        "id": "bwPoGE-YTOTS"
      },
      "source": [
        "Zipped!"
      ]
    },
    {
      "cell_type": "code",
      "metadata": {
        "id": "rC4mpTbbN6Dn"
      },
      "source": [
        "n,x = map(int,input().split())\n",
        "grades = []\n",
        "for _ in range(x):\n",
        "    grades.append(map(float, input().split()))\n",
        "    \n",
        "for i in zip(*grades): \n",
        "    print( sum(i)/len(i) )"
      ],
      "execution_count": null,
      "outputs": []
    },
    {
      "cell_type": "markdown",
      "metadata": {
        "id": "WECzZNj2SUpv"
      },
      "source": [
        "Athlete Sort"
      ]
    },
    {
      "cell_type": "code",
      "metadata": {
        "id": "Ey9psc7DSUuT"
      },
      "source": [
        "import math\n",
        "import os\n",
        "import random\n",
        "import re\n",
        "import sys\n",
        "\n",
        "n, m = map(int, input().split())\n",
        "nums = [list(map(int, input().split())) for i in range(n)]\n",
        "k = int(input())\n",
        "nums.sort(key=lambda x: x[k])\n",
        "\n",
        "for line in nums:\n",
        "    print(*line)"
      ],
      "execution_count": null,
      "outputs": []
    },
    {
      "cell_type": "markdown",
      "metadata": {
        "id": "ypXKS-4aSUyF"
      },
      "source": [
        "ginortS"
      ]
    },
    {
      "cell_type": "code",
      "metadata": {
        "id": "ut2eQQyVSU1u"
      },
      "source": [
        "order = 'abcdefghijklmnopqrstuvwxyzABCDEFGHIJKLMNOPQRSTUVWXYZ1357902468'\n",
        "print(*sorted(input(), key=order.index), sep='')"
      ],
      "execution_count": null,
      "outputs": []
    },
    {
      "cell_type": "markdown",
      "metadata": {
        "id": "E_yYrBtoSU5V"
      },
      "source": [
        "###Python Functionals"
      ]
    },
    {
      "cell_type": "markdown",
      "metadata": {
        "id": "pAvY_89jT-j7"
      },
      "source": [
        "Map and Lambda Function"
      ]
    },
    {
      "cell_type": "code",
      "metadata": {
        "id": "Xgx8hmq2SU8z"
      },
      "source": [
        "cube = lambda x: x**3\n",
        "def fibonacci(n):\n",
        "    output=[0,1]\n",
        "    for i in range(2,n):\n",
        "        output.append(output[i-1]+output[i-2])\n",
        "        \n",
        "    return output[0:n]"
      ],
      "execution_count": null,
      "outputs": []
    },
    {
      "cell_type": "markdown",
      "metadata": {
        "id": "lbVCb2CRUOOg"
      },
      "source": [
        "###Regex and Parsing challenges"
      ]
    },
    {
      "cell_type": "markdown",
      "metadata": {
        "id": "whlBGPMgSVAI"
      },
      "source": [
        "Detect Floating Point Number"
      ]
    },
    {
      "cell_type": "code",
      "metadata": {
        "id": "GPO_ZQWvSVDm"
      },
      "source": [
        "for i in range(int(input())):    \n",
        "    try:\n",
        "        n=input()\n",
        "        int(n.split('.')[1]) \n",
        "        if float(n):\n",
        "            print('True')\n",
        "    except:        \n",
        "        print('False')\n"
      ],
      "execution_count": null,
      "outputs": []
    },
    {
      "cell_type": "markdown",
      "metadata": {
        "id": "_XFmafY2SVHh"
      },
      "source": [
        "Re.split()"
      ]
    },
    {
      "cell_type": "code",
      "metadata": {
        "id": "xBSSBzt5SVK_"
      },
      "source": [
        "regex_pattern = r\"\\D+\"\n",
        "\n",
        "import re\n",
        "print(\"\\n\".join(re.split(regex_pattern, input())))"
      ],
      "execution_count": null,
      "outputs": []
    },
    {
      "cell_type": "markdown",
      "metadata": {
        "id": "UPEiSLTCSVO7"
      },
      "source": [
        "Group(), Groups() & Groupdict()"
      ]
    },
    {
      "cell_type": "code",
      "metadata": {
        "id": "VC1z-JnvSVSb"
      },
      "source": [
        "import re\n",
        "m = re.search(r\"([a-z0-9])\\1+\", input())\n",
        "print(m.group(1) if m else -1)\n"
      ],
      "execution_count": null,
      "outputs": []
    },
    {
      "cell_type": "markdown",
      "metadata": {
        "id": "B-WF_hEhSVdR"
      },
      "source": [
        "Re.findall() & Re.finditer()"
      ]
    },
    {
      "cell_type": "code",
      "metadata": {
        "id": "qsVyXYXzSVxd"
      },
      "source": [
        "import re\n",
        "v = \"aeiou\"\n",
        "c = \"qwrtypsdfghjklzxcvbnm\"\n",
        "m = re.findall(r\"(?<=[%s])([%s]{2,})[%s]\" % (c, v, c), input(), flags = re.I)\n",
        "print('\\n'.join(m or ['-1']))"
      ],
      "execution_count": null,
      "outputs": []
    },
    {
      "cell_type": "markdown",
      "metadata": {
        "id": "QanlGY8WSV3l"
      },
      "source": [
        "Re.start() & Re.end()"
      ]
    },
    {
      "cell_type": "code",
      "metadata": {
        "id": "5F9PyFXcSW-V"
      },
      "source": [
        "import re\n",
        "s, k = input(), input()\n",
        "matches = list(re.finditer(r'(?={})'.format(k), s))\n",
        "if matches:\n",
        "    print('\\n'.join(str((match.start(),\n",
        "          match.start() + len(k) - 1)) for match in matches))\n",
        "else:\n",
        "    print('(-1, -1)')"
      ],
      "execution_count": null,
      "outputs": []
    },
    {
      "cell_type": "markdown",
      "metadata": {
        "id": "H13ZNo2CSXD9"
      },
      "source": [
        "Regex Substitution"
      ]
    },
    {
      "cell_type": "code",
      "metadata": {
        "id": "QzEUpNh_SXHe"
      },
      "source": [
        "for _ in range(int(input())):\n",
        "    line = input()\n",
        "    \n",
        "    while ' && ' in line or ' || ' in line:\n",
        "        line = line.replace(\" && \", \" and \").replace(\" || \", \" or \")\n",
        "    \n",
        "    print(line)"
      ],
      "execution_count": null,
      "outputs": []
    },
    {
      "cell_type": "markdown",
      "metadata": {
        "id": "vyzqo_j2SXLP"
      },
      "source": [
        "Validating Roman Numerals"
      ]
    },
    {
      "cell_type": "code",
      "metadata": {
        "id": "nvBhb0ZiSXPV"
      },
      "source": [
        "thousand = \"(?:(M){0,3})?\"\n",
        "hundred  = \"(?:(D?(C){0,3})|(CM)|(CD))?\"\n",
        "ten      = \"(?:(L?(X){0,3})|(XC)|(XL))?\"\n",
        "unit     = \"(?:(V?(I){0,3})|(IX)|(IV))?\"\n",
        "\n",
        "regex_pattern = r\"^\" + thousand + hundred + ten + unit + \"$\"\n",
        "\n",
        "import re\n",
        "print(str(bool(re.match(regex_pattern, input()))))"
      ],
      "execution_count": null,
      "outputs": []
    },
    {
      "cell_type": "markdown",
      "metadata": {
        "id": "9fdjccQkSXUN"
      },
      "source": [
        "Validating phone numbers"
      ]
    },
    {
      "cell_type": "code",
      "metadata": {
        "id": "Ha5c0Sn_SXYy"
      },
      "source": [
        "test = int(input())\n",
        "for i in range(test):\n",
        "    string  = input()\n",
        "    if(len(string)==10 and string[0] in ['9', '8', '7'] and string.isnumeric()):\n",
        "        print(\"YES\")\n",
        "    else:\n",
        "        print(\"NO\")\n"
      ],
      "execution_count": null,
      "outputs": []
    },
    {
      "cell_type": "markdown",
      "metadata": {
        "id": "0JLtKfR-SXdC"
      },
      "source": [
        "Validating and Parsing Email Addresses"
      ]
    },
    {
      "cell_type": "code",
      "metadata": {
        "id": "ntvPIgAnSXhR"
      },
      "source": [
        "import re\n",
        "n = int(input())\n",
        "for _ in range(n):\n",
        "    x, y = input().split(' ')\n",
        "    m = re.match(r'<[A-Za-z](\\w|-|\\.|_)+@[A-Za-z]+\\.[A-Za-z]{1,3}>', y)\n",
        "    if m:\n",
        "        print(x,y)\n"
      ],
      "execution_count": null,
      "outputs": []
    },
    {
      "cell_type": "markdown",
      "metadata": {
        "id": "r5w1VW0LSXlh"
      },
      "source": [
        "Hex Color Code\n"
      ]
    },
    {
      "cell_type": "code",
      "metadata": {
        "id": "m2laZGr5SXqt"
      },
      "source": [
        "import re\n",
        "pattern=r'(#[0-9a-fA-F]{3,6}){1,2}[^\\n ]'\n",
        "for _ in range(int(input())):\n",
        "    for x in re.findall(pattern,input()):\n",
        "        print(x)\n"
      ],
      "execution_count": null,
      "outputs": []
    },
    {
      "cell_type": "markdown",
      "metadata": {
        "id": "8hlC29hwaO9e"
      },
      "source": [
        "HTML Parser - Part 1"
      ]
    },
    {
      "cell_type": "code",
      "metadata": {
        "id": "Pr21c0_gaPCz"
      },
      "source": [
        "from html.parser import HTMLParser\n",
        "class MyHTMLParser(HTMLParser):\n",
        "    def handle_starttag(self, tag, attrs):        \n",
        "        print ('Start :',tag)\n",
        "        for ele in attrs:\n",
        "            print ('->',ele[0],'>',ele[1])\n",
        "            \n",
        "    def handle_endtag(self, tag):\n",
        "        print ('End   :',tag)\n",
        "        \n",
        "    def handle_startendtag(self, tag, attrs):\n",
        "        print ('Empty :',tag)\n",
        "        for ele in attrs:\n",
        "            print ('->',ele[0],'>',ele[1])\n",
        "            \n",
        "MyParser = MyHTMLParser()\n",
        "MyParser.feed(''.join([input().strip() for _ in range(int(input()))]))\n"
      ],
      "execution_count": null,
      "outputs": []
    },
    {
      "cell_type": "markdown",
      "metadata": {
        "id": "8lr43h0SaPHi"
      },
      "source": [
        "HTML Parser - Part 2"
      ]
    },
    {
      "cell_type": "code",
      "metadata": {
        "id": "NXoXOZYgaPMl"
      },
      "source": [
        "from html.parser import HTMLParser\n",
        "class CustomHTMLParser(HTMLParser):\n",
        "    def handle_comment(self, data):\n",
        "        number_of_line = len(data.split('\\n'))\n",
        "        if number_of_line>1:\n",
        "            print('>>> Multi-line Comment')\n",
        "        else:\n",
        "            print('>>> Single-line Comment')\n",
        "        if data.strip():\n",
        "            print(data)\n",
        "\n",
        "    def handle_data(self, data):\n",
        "        if data.strip():\n",
        "            print(\">>> Data\")\n",
        "            print(data)\n",
        "\n",
        "parser = CustomHTMLParser()\n",
        "\n",
        "n = int(input())\n",
        "\n",
        "html_string = ''\n",
        "for i in range(n):\n",
        "    html_string += input().rstrip()+'\\n'\n",
        "    \n",
        "parser.feed(html_string)\n",
        "parser.close()"
      ],
      "execution_count": null,
      "outputs": []
    },
    {
      "cell_type": "markdown",
      "metadata": {
        "id": "SLKSzminaPRx"
      },
      "source": [
        "Detect HTML Tags, Attributes and Attribute Values"
      ]
    },
    {
      "cell_type": "code",
      "metadata": {
        "id": "WKjSB1A0aPWo"
      },
      "source": [
        "from html.parser import HTMLParser\n",
        "class MyHTMLParser(HTMLParser):\n",
        "    def handle_starttag(self, tag, attrs):\n",
        "        print(tag)\n",
        "        [print('-> {} > {}'.format(*attr)) for attr in attrs]\n",
        "        \n",
        "html = '\\n'.join([input() for _ in range(int(input()))])\n",
        "parser = MyHTMLParser()\n",
        "parser.feed(html)\n",
        "parser.close()\n"
      ],
      "execution_count": null,
      "outputs": []
    },
    {
      "cell_type": "markdown",
      "metadata": {
        "id": "ICyjKFiXaPbC"
      },
      "source": [
        "Validating UID"
      ]
    },
    {
      "cell_type": "code",
      "metadata": {
        "id": "IXQ2h5qmaPfk"
      },
      "source": [
        "import re\n",
        "\n",
        "for _ in range(int(input())):\n",
        "    u = ''.join(sorted(input()))\n",
        "    try:\n",
        "        assert re.search(r'[A-Z]{2}', u)\n",
        "        assert re.search(r'\\d\\d\\d', u)\n",
        "        assert not re.search(r'[^a-zA-Z0-9]', u)\n",
        "        assert not re.search(r'(.)\\1', u)\n",
        "        assert len(u) == 10\n",
        "    except:\n",
        "        print('Invalid')\n",
        "    else:\n",
        "        print('Valid')\n"
      ],
      "execution_count": null,
      "outputs": []
    },
    {
      "cell_type": "markdown",
      "metadata": {
        "id": "NQ_F0d-haPke"
      },
      "source": [
        "Validating Credit Card Numbers"
      ]
    },
    {
      "cell_type": "code",
      "metadata": {
        "id": "cMUGfZ7YaPry"
      },
      "source": [
        "import re\n",
        "TESTER = re.compile(\n",
        "    r\"^\"\n",
        "    r\"(?!.*(\\d)(-?\\1){3})\"\n",
        "    r\"[456]\"\n",
        "    r\"\\d{3}\"\n",
        "    r\"(?:-?\\d{4}){3}\"\n",
        "    r\"$\")\n",
        "for _ in range(int(input().strip())):\n",
        "    print(\"Valid\" if TESTER.search(input().strip()) else \"Invalid\")"
      ],
      "execution_count": null,
      "outputs": []
    },
    {
      "cell_type": "markdown",
      "metadata": {
        "id": "CPcXFss0aPxy"
      },
      "source": [
        "Validating Postal Codes"
      ]
    },
    {
      "cell_type": "code",
      "metadata": {
        "id": "4Dr8vSWdaP5M"
      },
      "source": [
        "regex_integer_in_range = r\"^[1-9][0-9]{5}$\"\n",
        "regex_alternating_repetitive_digit_pair = r\"(\\d)(?=.\\1)\"\n",
        "\n",
        "\n",
        "import re\n",
        "P = input()\n",
        "\n",
        "print (bool(re.match(regex_integer_in_range, P)) \n",
        "and len(re.findall(regex_alternating_repetitive_digit_pair, P)) < 2)"
      ],
      "execution_count": null,
      "outputs": []
    },
    {
      "cell_type": "markdown",
      "metadata": {
        "id": "sbG6KkFWaP_L"
      },
      "source": [
        "Matrix Script"
      ]
    },
    {
      "cell_type": "code",
      "metadata": {
        "id": "TpoK7Oy8aQC9"
      },
      "source": [
        "import math\n",
        "import os\n",
        "import random\n",
        "import re\n",
        "import sys\n",
        "\n",
        "first_multiple_input = input().rstrip().split()\n",
        "\n",
        "n = int(first_multiple_input[0])\n",
        "\n",
        "m = int(first_multiple_input[1])\n",
        "\n",
        "matrix = []\n",
        "\n",
        "for _ in range(n):\n",
        "    matrix_item = input()\n",
        "    matrix.append(matrix_item)\n"
      ],
      "execution_count": null,
      "outputs": []
    },
    {
      "cell_type": "markdown",
      "metadata": {
        "id": "XeiHp7nKaQHW"
      },
      "source": [
        "###XML\n"
      ]
    },
    {
      "cell_type": "markdown",
      "metadata": {
        "id": "wMbZAZUUa2mT"
      },
      "source": [
        "XML 1 - Find the Score"
      ]
    },
    {
      "cell_type": "code",
      "metadata": {
        "id": "hwqsQDaFaQLI"
      },
      "source": [
        "import sys\n",
        "import xml.etree.ElementTree as etree\n",
        "\n",
        "def get_attr_number(node):\n",
        "    return sum(len(child.attrib) for child in node.iter())\n",
        "\n",
        "if __name__ == '__main__':\n",
        "    sys.stdin.readline()\n",
        "    xml = sys.stdin.read()\n",
        "    tree = etree.ElementTree(etree.fromstring(xml))\n",
        "    root = tree.getroot()\n",
        "    print(get_attr_number(root))"
      ],
      "execution_count": null,
      "outputs": []
    },
    {
      "cell_type": "markdown",
      "metadata": {
        "id": "qGCDGgd9aQPO"
      },
      "source": [
        "XML2 - Find the Maximum Depth"
      ]
    },
    {
      "cell_type": "code",
      "metadata": {
        "id": "bFhFqAHeaQTA"
      },
      "source": [
        "import xml.etree.ElementTree as etree\n",
        "\n",
        "maxdepth = -1\n",
        "def depth(elem, level):\n",
        "    global maxdepth\n",
        "    if (level == maxdepth):\n",
        "        maxdepth += 1\n",
        "        \n",
        "    for child in elem:\n",
        "        depth(child, level + 1)\n",
        "\n",
        "n = int(input())\n",
        "xml = \"\"\n",
        "for i in range(n):\n",
        "    xml =  xml + input() + \"\\n\"\n",
        "tree = etree.ElementTree(etree.fromstring(xml))\n",
        "depth(tree.getroot(), -1)\n",
        "print(maxdepth)"
      ],
      "execution_count": 8,
      "outputs": []
    },
    {
      "cell_type": "markdown",
      "metadata": {
        "id": "W5pvvoLeaQXG"
      },
      "source": [
        "###Closures and Decorations"
      ]
    },
    {
      "cell_type": "markdown",
      "metadata": {
        "id": "3VMi-J7ybAsT"
      },
      "source": [
        "Standardize Mobile Number Using Decorators\n",
        "\n"
      ]
    },
    {
      "cell_type": "code",
      "metadata": {
        "colab": {
          "base_uri": "https://localhost:8080/"
        },
        "id": "jeaY9m2paQbg",
        "outputId": "75ca3405-dc1e-4cca-c205-12a9644cfb98"
      },
      "source": [
        "def wrapper(f):\n",
        "    def fun(l):\n",
        "        f('+91 {} {}'.format(n[-10:-5], n[-5:]) for n in l)\n",
        "    return fun\n",
        "\n",
        "@wrapper\n",
        "def sort_phone(l):\n",
        "    print(*sorted(l), sep='\\n')\n",
        "\n",
        "if __name__ == '__main__':\n",
        "    l = [input() for _ in range(int(input()))]\n",
        "    sort_phone(l) \n"
      ],
      "execution_count": 9,
      "outputs": [
        {
          "output_type": "stream",
          "name": "stdout",
          "text": [
            "1\n",
            "07895462130\n",
            "+91 78954 62130\n"
          ]
        }
      ]
    },
    {
      "cell_type": "markdown",
      "metadata": {
        "id": "xa_s_yyhbGzR"
      },
      "source": [
        "Decorators 2 - Name Directory\n",
        "\n"
      ]
    },
    {
      "cell_type": "code",
      "metadata": {
        "id": "6LWwqeoLbG6n"
      },
      "source": [
        "import operator\n",
        "\n",
        "def person_lister(f):\n",
        "    def inner(people):\n",
        "        return map(f, sorted([[e[0], e[1], int(e[2]), e[3]] for e in people], key=operator.itemgetter(2)))\n",
        "    return inner\n",
        "\n",
        "@person_lister\n",
        "def name_format(person):\n",
        "    return (\"Mr. \" if person[3] == \"M\" else \"Ms. \") + person[0] + \" \" + person[1]\n",
        "\n",
        "if __name__ == '__main__':\n",
        "    people = [input().split() for i in range(int(input()))]\n",
        "    print(*name_format(people), sep='\\n')"
      ],
      "execution_count": null,
      "outputs": []
    },
    {
      "cell_type": "markdown",
      "metadata": {
        "id": "uHEjqWZsbJGl"
      },
      "source": [
        "###Numpy"
      ]
    },
    {
      "cell_type": "markdown",
      "metadata": {
        "id": "4_tTyOTXbJLX"
      },
      "source": [
        "Arrays"
      ]
    },
    {
      "cell_type": "code",
      "metadata": {
        "id": "vs3g6u99bJZK"
      },
      "source": [
        "import numpy\n",
        "\n",
        "def arrays(arr):\n",
        "    output = numpy.zeros(len(arr),dtype = float)\n",
        "    for i in range(len(arr)):\n",
        "        output[i] = arr[len(arr)-1-i]\n",
        "    return output\n",
        "\n",
        "arr = input().strip().split(' ')\n",
        "result = arrays(arr)\n",
        "print(result)"
      ],
      "execution_count": null,
      "outputs": []
    },
    {
      "cell_type": "markdown",
      "metadata": {
        "id": "FhCCZRI8bJgh"
      },
      "source": [
        "Shape and Reshape"
      ]
    },
    {
      "cell_type": "code",
      "metadata": {
        "id": "Bf4WzktKbJlP"
      },
      "source": [
        "import numpy as np\n",
        "\n",
        "my_vector = np.array(list(map(int, input().split())))\n",
        "\n",
        "print(np.reshape(my_vector,(3,3)))"
      ],
      "execution_count": null,
      "outputs": []
    },
    {
      "cell_type": "markdown",
      "metadata": {
        "id": "-oGKHxK9bJpp"
      },
      "source": [
        "Transpose and Flatten"
      ]
    },
    {
      "cell_type": "code",
      "metadata": {
        "id": "n5fkqrSkbJt6"
      },
      "source": [
        "import numpy as np\n",
        "n, m = map(int, input().split())\n",
        "\n",
        "a = np.zeros((n,m),dtype=int)\n",
        "for i in range(n):\n",
        "    a[i] = list(map(int, input().split()))\n",
        "print(np.transpose(a))\n",
        "print(a.flatten())"
      ],
      "execution_count": null,
      "outputs": []
    },
    {
      "cell_type": "markdown",
      "metadata": {
        "id": "Az9CKIdobJyK"
      },
      "source": [
        "Concatenate"
      ]
    },
    {
      "cell_type": "code",
      "metadata": {
        "id": "3ptnXT5GbJ1z"
      },
      "source": [
        "import numpy as np\n",
        "n, m, p = map(int, input().split())\n",
        "a = np.zeros((n, p), dtype=int)\n",
        "b = np.zeros((m, p), dtype=int)\n",
        "for i in range(n):\n",
        "    a[i] = list(map(int, input().split()))\n",
        "for j in range(m):\n",
        "    b[j] =list(map(int, input().split()))\n",
        "\n",
        "print(np.concatenate((a,b), axis = 0))"
      ],
      "execution_count": null,
      "outputs": []
    },
    {
      "cell_type": "markdown",
      "metadata": {
        "id": "hQJeyw2LbJ5u"
      },
      "source": [
        "Zeros and Ones\n"
      ]
    },
    {
      "cell_type": "code",
      "metadata": {
        "id": "3k6kJFkzbJ9f"
      },
      "source": [
        "import numpy as np\n",
        "\n",
        "nums = list(map(int, input().split()))\n",
        "print(np.zeros(nums, dtype = int))\n",
        "print(np.ones(nums, dtype=int))"
      ],
      "execution_count": null,
      "outputs": []
    },
    {
      "cell_type": "markdown",
      "metadata": {
        "id": "APqMn6shbKBc"
      },
      "source": [
        "Eye and Identity"
      ]
    },
    {
      "cell_type": "code",
      "metadata": {
        "id": "12F3ocK5bKFs"
      },
      "source": [
        "import numpy as np\n",
        "np.set_printoptions(legacy='1.13')\n",
        "n, m = map(int, input().split())\n",
        "\n",
        "print(np.eye(n,m))"
      ],
      "execution_count": null,
      "outputs": []
    },
    {
      "cell_type": "markdown",
      "metadata": {
        "id": "N0Pb9zCzbKKa"
      },
      "source": [
        "Array Mathematics"
      ]
    },
    {
      "cell_type": "code",
      "metadata": {
        "id": "5bv-37pbbKOW"
      },
      "source": [
        "import numpy as np\n",
        "\n",
        "n, m = map(int, input().split())\n",
        "a = np.zeros((n,m), dtype=int)\n",
        "b = np.zeros((n,m), dtype=int)\n",
        "\n",
        "for i in range(n):\n",
        "    a[i] = list(map(int, input().split()))\n",
        "    \n",
        "for i in range(n):\n",
        "    b[i] = list(map(int, input().split()))\n",
        "    \n",
        "print(a+b)\n",
        "print(a-b)\n",
        "print(a*b)\n",
        "print(a//b)\n",
        "print(a%b)\n",
        "print(a**b)"
      ],
      "execution_count": null,
      "outputs": []
    },
    {
      "cell_type": "markdown",
      "metadata": {
        "id": "SwBILVi2c8N5"
      },
      "source": [
        "Floor, Ceil and Rint"
      ]
    },
    {
      "cell_type": "code",
      "metadata": {
        "id": "Z7C7RGFZc8UF"
      },
      "source": [
        "import numpy as np\n",
        "np.set_printoptions(legacy='1.13')\n",
        "\n",
        "a = np.array(list(map(float, input().split(' '))))\n",
        "print(np.floor(a))\n",
        "print(np.ceil(a))\n",
        "print(np.rint(a))"
      ],
      "execution_count": null,
      "outputs": []
    },
    {
      "cell_type": "markdown",
      "metadata": {
        "id": "oOjkNRXPc8ZB"
      },
      "source": [
        "Sum and Prod"
      ]
    },
    {
      "cell_type": "code",
      "metadata": {
        "id": "Mo8Gixomc8d5"
      },
      "source": [
        "import numpy as np\n",
        "\n",
        "n,m = map(int, input().split())\n",
        "\n",
        "a = np.zeros((n,m), dtype = int)\n",
        "\n",
        "for i in range(n):\n",
        "    a[i] = list(map(int, input().split()))\n",
        "\n",
        "print(np.prod(np.sum(a, axis=0)))"
      ],
      "execution_count": null,
      "outputs": []
    },
    {
      "cell_type": "markdown",
      "metadata": {
        "id": "UoO3nzRPc8iN"
      },
      "source": [
        "Min and Max"
      ]
    },
    {
      "cell_type": "code",
      "metadata": {
        "id": "DzkuuTxzc8l_"
      },
      "source": [
        "import numpy\n",
        "\n",
        "n,m = map(int, input().split())\n",
        "a = numpy.zeros((n,m), dtype=int)\n",
        "for i in range(n):\n",
        "    a[i] = list(map(int, input().split()))\n",
        "\n",
        "print(numpy.max(numpy.min(a, axis=1)))"
      ],
      "execution_count": null,
      "outputs": []
    },
    {
      "cell_type": "markdown",
      "metadata": {
        "id": "ZfGmCnfic8qT"
      },
      "source": [
        "Mean, Var, and Std"
      ]
    },
    {
      "cell_type": "code",
      "metadata": {
        "id": "kue_EeJ_c8uW"
      },
      "source": [
        "import numpy\n",
        "\n",
        "n,m = map(int, input().split())\n",
        "a = numpy.zeros((n,m))\n",
        "for i in range(n):\n",
        "    a[i] = list(map(int, input().split()))\n",
        "\n",
        "print(numpy.mean(a, axis=1))\n",
        "print(numpy.var(a, axis=0))\n",
        "print(round(numpy.std(a), 11))"
      ],
      "execution_count": null,
      "outputs": []
    },
    {
      "cell_type": "markdown",
      "metadata": {
        "id": "5FdG3I9Ec8yS"
      },
      "source": [
        "Dot and Cross"
      ]
    },
    {
      "cell_type": "code",
      "metadata": {
        "id": "hdYA7Kpwc81w"
      },
      "source": [
        "import numpy\n",
        "n = int(input())\n",
        "a=numpy.array([list(map(int,input().split())) for _ in range(n)])\n",
        "b=numpy.array([list(map(int,input().split())) for _ in range(n)])\n",
        "\n",
        "print(numpy.dot(a, b))"
      ],
      "execution_count": 9,
      "outputs": []
    },
    {
      "cell_type": "markdown",
      "metadata": {
        "id": "y4MjP5YXc86f"
      },
      "source": [
        "Inner and Outer"
      ]
    },
    {
      "cell_type": "code",
      "metadata": {
        "id": "jGKi7Wwqc89-"
      },
      "source": [
        "import numpy\n",
        "a = numpy.array(list(map(int,input().split())))\n",
        "b = numpy.array(list(map(int,input().split())))\n",
        "\n",
        "print(numpy.inner(a,b))\n",
        "print(numpy.outer(a,b))"
      ],
      "execution_count": null,
      "outputs": []
    },
    {
      "cell_type": "markdown",
      "metadata": {
        "id": "xVudIhEtc9B4"
      },
      "source": [
        "Polynomials"
      ]
    },
    {
      "cell_type": "code",
      "metadata": {
        "id": "IVvtl8U-c9Fr"
      },
      "source": [
        "import numpy\n",
        "\n",
        "p = list(map(float,input().split(' ')))\n",
        "x = float(input())\n",
        "px = numpy.polyval(p, x)\n",
        "print(px)"
      ],
      "execution_count": null,
      "outputs": []
    },
    {
      "cell_type": "markdown",
      "metadata": {
        "id": "0dUr5epDc9Jf"
      },
      "source": [
        "Linear Algebra"
      ]
    },
    {
      "cell_type": "code",
      "metadata": {
        "id": "SiEixKLYc9Mn"
      },
      "source": [
        "import numpy\n",
        "n = int(input())\n",
        "a = numpy.array([list(map(float,input().split())) for _ in range(n)])\n",
        "print(round(numpy.linalg.det(a),2))"
      ],
      "execution_count": null,
      "outputs": []
    },
    {
      "cell_type": "markdown",
      "metadata": {
        "id": "iFMSDkiFd4ik"
      },
      "source": [
        "#Problem 2"
      ]
    },
    {
      "cell_type": "markdown",
      "metadata": {
        "id": "QqTt61Rwd6t1"
      },
      "source": [
        "Birthday Cake Candles"
      ]
    },
    {
      "cell_type": "code",
      "metadata": {
        "id": "uIWlHLcfd60H"
      },
      "source": [
        ""
      ],
      "execution_count": null,
      "outputs": []
    },
    {
      "cell_type": "markdown",
      "metadata": {
        "id": "dhscY2Yod64r"
      },
      "source": [
        "Number Line Jumps"
      ]
    },
    {
      "cell_type": "code",
      "metadata": {
        "id": "JgY7xAJdd68o"
      },
      "source": [
        ""
      ],
      "execution_count": null,
      "outputs": []
    },
    {
      "cell_type": "markdown",
      "metadata": {
        "id": "CYdlUJSod7AP"
      },
      "source": [
        "Viral Advertising"
      ]
    },
    {
      "cell_type": "code",
      "metadata": {
        "id": "T6usUKzRd7Eg"
      },
      "source": [
        ""
      ],
      "execution_count": null,
      "outputs": []
    },
    {
      "cell_type": "markdown",
      "metadata": {
        "id": "5URLiTZJd7Lt"
      },
      "source": [
        "Recursive Digit Sum"
      ]
    },
    {
      "cell_type": "code",
      "metadata": {
        "id": "ZkKBGhkyd7RN"
      },
      "source": [
        ""
      ],
      "execution_count": null,
      "outputs": []
    },
    {
      "cell_type": "markdown",
      "metadata": {
        "id": "vocOhUaYd9P_"
      },
      "source": [
        "Insertion Sort - Part 1"
      ]
    },
    {
      "cell_type": "code",
      "metadata": {
        "id": "0v0bWhOEd9Y7"
      },
      "source": [
        ""
      ],
      "execution_count": null,
      "outputs": []
    },
    {
      "cell_type": "markdown",
      "metadata": {
        "id": "_LRmT6nld9eb"
      },
      "source": [
        "Insertion Sort - Part 2"
      ]
    },
    {
      "cell_type": "code",
      "metadata": {
        "id": "9dzfAKIAd9oT"
      },
      "source": [
        ""
      ],
      "execution_count": null,
      "outputs": []
    }
  ]
}